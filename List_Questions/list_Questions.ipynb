{
 "cells": [
  {
   "cell_type": "code",
   "execution_count": 3,
   "id": "12c95323-814d-4ae8-825c-4a133290998a",
   "metadata": {},
   "outputs": [
    {
     "name": "stdout",
     "output_type": "stream",
     "text": [
      "[1, 2, 3, 4, 5, 6, 7, 8, 9, 10]\n"
     ]
    }
   ],
   "source": [
    "\"\"\"\n",
    "Q2.\n",
    "Write a program to create empty list and add 1 to 10 values in the list\n",
    "\"\"\"\n",
    "empty_list=[]\n",
    "for item in range(1, 11):\n",
    "    empty_list.append(item)\n",
    "print(empty_list)"
   ]
  },
  {
   "cell_type": "code",
   "execution_count": null,
   "id": "d2303d1c-f9e5-409f-8218-29bac5f564a9",
   "metadata": {},
   "outputs": [],
   "source": [
    "\"\"\"\n",
    "Q3.\n",
    "insert first_name,last_name,age,occupation in the list and first the check \n",
    "how many characters are in each variable and add the number of the character in the list\n",
    "\"\"\"\n",
    "my_list=[1,\"muneeb\",3,\"tabassum\",4,5,6,7,8,9,10]\n",
    "first_name=\"Awais\"\n",
    "last_name=\"khan\"\n",
    "age=22\n",
    "occupation=\"software engineer\"\n",
    "\n",
    "f_name_len = len(first_name)\n",
    "l_name_len = len(last_name)\n",
    "occupation_len = len(occupation)\n",
    "\n",
    "my_list.extend([first_name,f_name_len,last_name,l_name_len,age,occupation,occupation_len])\n",
    "print(my_list)\n"
   ]
  },
  {
   "cell_type": "code",
   "execution_count": null,
   "id": "7e3bfcf0-4f9c-4c7e-b6d4-0279c14ee252",
   "metadata": {},
   "outputs": [],
   "source": [
    "\"\"\"\n",
    "Q4.\n",
    "Write a program to add value in the existing list \n",
    "\"\"\"\n",
    "add_val=[1,2,3,4,5,6,7,8,9,10]\n",
    "add_val.extend([11,12,14,\"awais\"])\n",
    "print(add_val)\n"
   ]
  },
  {
   "cell_type": "code",
   "execution_count": null,
   "id": "6293a459-588a-4b2e-9ce6-d3a126c4b708",
   "metadata": {},
   "outputs": [],
   "source": [
    "\"\"\"\n",
    "Q5.\n",
    "Write a program to delete value from the list\n",
    "\"\"\"\n",
    "  # delete by index\n",
    "# delete_val=[1,2,3,4,5,6,7,8,9,10]\n",
    "# delete_val.pop(4)\n",
    "# print(delete_val)\n",
    "\n",
    "\n",
    "# delete by value \n",
    "delete_val = [1, 2, 3, 4, 5, 6, 7, 8, 9, 10]\n",
    "to_delete = 5\n",
    "\n",
    "if to_delete in lst1:\n",
    "    delete_val.remove(to_delete)\n",
    "\n",
    "print(delete_val)\n",
    "\n",
    "\n",
    "# delete multiple values \n",
    "# delete_val = [1, 2, 3, 4, 5, 6, 7, 8, 9, 10]\n",
    "# to_delete = [5, 7]  \n",
    "\n",
    "# lst1 = [v for v in delete_val if v not in to_delete]\n",
    "\n",
    "# print(delete_val)\n",
    "\n"
   ]
  },
  {
   "cell_type": "code",
   "execution_count": 2,
   "id": "4d0b2eef-9a2c-4424-8710-f7ad94d546a4",
   "metadata": {},
   "outputs": [
    {
     "name": "stdout",
     "output_type": "stream",
     "text": [
      "total number of element in the list is =  9\n"
     ]
    }
   ],
   "source": [
    "\"\"\"\n",
    "Q6.\n",
    "Write a program to find the total number of elements in the list\n",
    "\"\"\"\n",
    "\n",
    "num_list=[34,23,54,12,23,2,42,15,\"awais\"]\n",
    "total_elements=0\n",
    "#for item in range(0,len(num_list)):\n",
    "for item in num_list:\n",
    "    total_elements=total_elements+1\n",
    "print(\"total number of element in the list is = \",total_elements)\n",
    "#print(len(num_list))"
   ]
  },
  {
   "cell_type": "code",
   "execution_count": null,
   "id": "716f0766-c0d2-4e1b-96f4-80aee5ecd895",
   "metadata": {},
   "outputs": [],
   "source": [
    "\"\"\"\n",
    "Q7.\n",
    "Write a program to find the total number of elements in the list don't use any function\n",
    "\"\"\"\n",
    "num_list=[34,23,54,12,23,2,42,15]\n",
    "total_items=0\n",
    "#for item in range(0,len(num_list)):\n",
    "for item in num_list:\n",
    "    total_items=total_items+1\n",
    "print(f\"total number of element in the list is = {total_items}\")"
   ]
  },
  {
   "cell_type": "code",
   "execution_count": 5,
   "id": "c56ce0cd-0771-4c30-b860-4555c22b23ef",
   "metadata": {},
   "outputs": [
    {
     "name": "stdout",
     "output_type": "stream",
     "text": [
      "Skipping non-numeric item: awais\n",
      "227.9\n"
     ]
    }
   ],
   "source": [
    "\"\"\"\n",
    "Q8.\n",
    "Write a program to sum the value of the list\n",
    "\"\"\"\n",
    "# num_list=[34,23,54,12,23,2,42,15]\n",
    "# total_val=0\n",
    "# # for item in range(len(num_list)):\n",
    "# #     total_val=total_val+num_list[item]\n",
    "# for item in num_list:\n",
    "#     total_val=total_val+item\n",
    "# print(total_val)\n",
    "\n",
    "\n",
    "num_list = [34, 23, 54, 12, 23, 2, 42, 15, \"awais\", 22.9]\n",
    "total_val = 0\n",
    "\n",
    "for item in num_list:\n",
    "    if isinstance(item, (int, float)): \n",
    "        total_val = total_val+ item\n",
    "    else:\n",
    "        print(f\"Skipping non-numeric item: {item}\")\n",
    "\n",
    "print(total_val)\n",
    "\n"
   ]
  },
  {
   "cell_type": "code",
   "execution_count": 6,
   "id": "04e3d249-2db4-4395-8cf7-4af31bdd0b82",
   "metadata": {},
   "outputs": [
    {
     "name": "stdout",
     "output_type": "stream",
     "text": [
      "Total number of elements in the list: 9\n"
     ]
    }
   ],
   "source": [
    "\"\"\"\n",
    "Q9.\n",
    "Write a program to count the number of element in the list using recursion\n",
    "\"\"\"\n",
    "\n",
    "num_list = [34, 23, 54, 12, 23, 2, 42, 15,\"awais\"]\n",
    "\n",
    "def count_recursive(lst):\n",
    "    if not lst:\n",
    "        return 0\n",
    "   \n",
    "    else:\n",
    "        return 1 + count_recursive(lst[1:])\n",
    "\n",
    "count_item = count_recursive(num_list)\n",
    "print(\"Total number of elements in the list:\", count_item)\n",
    "\n"
   ]
  },
  {
   "cell_type": "code",
   "execution_count": 7,
   "id": "30dd9c49-39a9-4e4f-99cc-71007e1b179e",
   "metadata": {},
   "outputs": [
    {
     "name": "stdout",
     "output_type": "stream",
     "text": [
      "[15, 23, 54, 12, 23, 2, 42, 34]\n"
     ]
    }
   ],
   "source": [
    "\"\"\"\n",
    "Q10.\n",
    "Write a program to interchange first and last element in the list\n",
    "\"\"\"\n",
    "# num_list = [34, 23, 54, 12, 23, 2, 42, 15]\n",
    "# num_list[0], num_list[-1] = num_list[-1], num_list[0]\n",
    "\n",
    "# print(num_list)\n",
    "\n",
    "\n",
    "\n",
    "num_list = [34, 23, 54, 12, 23, 2, 42, 15]\n",
    "if len(num_list) >= 2:\n",
    "    num_list[0], num_list[-1] = num_list[-1], num_list[0]\n",
    "    print(num_list)\n",
    "else:\n",
    "    print(\"List has less than two elements\")\n"
   ]
  },
  {
   "cell_type": "code",
   "execution_count": null,
   "id": "43e06688-5e9e-4ea5-a310-99f7c4104742",
   "metadata": {},
   "outputs": [],
   "source": [
    "\"\"\"\n",
    "Q11.\n",
    "Write a program to swap two elements in a list\n",
    "\"\"\"\n",
    "num_list = [34, 23, 54, 12, 23, 2, 42, 15]\n",
    "if len(num_list) >= 2:\n",
    "    num_list[1], num_list[3] =num_list[3], num_list[1]\n",
    "    print(num_list)\n",
    "else:\n",
    "     print(\"List has less than two elements\")"
   ]
  },
  {
   "cell_type": "code",
   "execution_count": 3,
   "id": "4e971db9-0c2c-4c87-8edc-1d6c9d806691",
   "metadata": {},
   "outputs": [
    {
     "name": "stdout",
     "output_type": "stream",
     "text": [
      "Element exist \n"
     ]
    }
   ],
   "source": [
    "\"\"\"\n",
    "Q12.\n",
    "Write a program to check if element exist in a list\n",
    "\"\"\"\n",
    "num_list = [1, 2, 3, 4, 5, 6, 7, 8, 9, 10]\n",
    "num_check=6                  #num=int(input(\"Enter number =\"))\n",
    "if num_check in num_list:\n",
    "    print(\"Element exist \")\n",
    "else:\n",
    "    print(\"Element does not exist\")\n"
   ]
  },
  {
   "cell_type": "code",
   "execution_count": null,
   "id": "01e1b620-c6c4-4967-bafd-d624b4f712db",
   "metadata": {},
   "outputs": [],
   "source": [
    "\"\"\"\n",
    "Q13.\n",
    "Write a program to clear a list\n",
    "\"\"\"\n",
    "num_list = [1, 2, 3, 4, 5, 6, 7, 8, 9, 10]\n",
    "num_list.clear()\n",
    "print(num_list)"
   ]
  },
  {
   "cell_type": "code",
   "execution_count": 25,
   "id": "cd82317f-f9c4-4b2a-a89e-a8a407f0fc20",
   "metadata": {},
   "outputs": [
    {
     "name": "stdout",
     "output_type": "stream",
     "text": [
      "[10, 9, 8, 7, 6, 5, 4, 3, 2, 1]\n"
     ]
    }
   ],
   "source": [
    "\"\"\"\n",
    "Q14.\n",
    "Write a program to reversing a list don't use any function or loop or new list\n",
    "\"\"\"\n",
    "# num_list= [1, 2, 3, 4, 5, 6, 7, 8, 9, 10]\n",
    "# #num_list.reverse()\n",
    "# num_list = num_list[::-1]  #slicing notation\n",
    "# print(num_list)\n",
    "\n",
    "\n",
    "def reverse_list(lst, start, end):\n",
    "    if start >= end:\n",
    "        return\n",
    "    lst[start], lst[end] = lst[end], lst[start]\n",
    "    reverse_list(lst, start + 1, end - 1)\n",
    "    \n",
    "num_list = [1, 2, 3, 4, 5, 6, 7, 8, 9, 10]\n",
    "reverse_list(num_list, 0, len(num_list) - 1)\n",
    "print(num_list)\n"
   ]
  },
  {
   "cell_type": "code",
   "execution_count": 27,
   "id": "21e4a0fb-a3dc-4487-84eb-b70ce5623c79",
   "metadata": {},
   "outputs": [
    {
     "name": "stdout",
     "output_type": "stream",
     "text": [
      "2\n"
     ]
    }
   ],
   "source": [
    "\"\"\"\n",
    "Q15.\n",
    "Write a program to count occurancees of an element in a list don't use any function \n",
    "\"\"\"\n",
    "num_list=[5,4,10,7,10,3,8,'10',2]\n",
    "x=10\n",
    "count_occurance=0\n",
    "for item in num_list:\n",
    "    if item==x:\n",
    "        count_occurance= count_occurance+1\n",
    "print( count_occurance)"
   ]
  },
  {
   "cell_type": "code",
   "execution_count": 29,
   "id": "931ccf76-74ff-4d6a-ae0e-ae5a35ff8a7e",
   "metadata": {},
   "outputs": [
    {
     "name": "stdout",
     "output_type": "stream",
     "text": [
      "63\n"
     ]
    }
   ],
   "source": [
    "\"\"\"\n",
    "Q16.\n",
    "Write a program to sum of number digit in list\n",
    "\"\"\"\n",
    "num_list=[\"Awais\",5,8,\"khan\",23,12,\"muneeb\",15]\n",
    "total_sum=0\n",
    "for item in num_list:\n",
    "    if isinstance(item,(int,float)):\n",
    "         total_sum=total_sum+item\n",
    "print(total_sum)"
   ]
  },
  {
   "cell_type": "code",
   "execution_count": 32,
   "id": "21aa2c61-22f2-4034-8f40-ef075a7b8889",
   "metadata": {},
   "outputs": [
    {
     "name": "stdout",
     "output_type": "stream",
     "text": [
      "1\n"
     ]
    }
   ],
   "source": [
    "\"\"\"\n",
    "Q17.\n",
    "write a program to find smallest number in a list\n",
    "\"\"\"\n",
    "num_list = [1,2,3,4,5,6,7,8,9,10]\n",
    "smallest_num=float(\"inf\")\n",
    "for item in range(0,len(num_list)):\n",
    "    if num_list[item]<smallest_num:\n",
    "        smallest_num=num_list[item]\n",
    "print(smallest_num)"
   ]
  },
  {
   "cell_type": "code",
   "execution_count": 33,
   "id": "cf6f1308-ce7c-4733-b497-2b04a1bce0ec",
   "metadata": {},
   "outputs": [
    {
     "name": "stdout",
     "output_type": "stream",
     "text": [
      "-inf\n"
     ]
    }
   ],
   "source": [
    "\"\"\"\n",
    "Q18.\n",
    "Write a program to find second largest number in a list\n",
    "\"\"\"\n",
    "num_list=[70, 11, 20, 4, 100]\n",
    "largest_num=float(\"-inf\")\n",
    "sec_largest_num=float(\"-inf\")\n",
    "for item in num_list:\n",
    "    if item > largest_num:\n",
    "        sec_largest_num=largest_num\n",
    "        largest_num=item\n",
    "    elif item > sec_largest_num and item<largest_num:\n",
    "        sec_largest_num=item\n",
    "print(sec_largest_num)\n",
    "        "
   ]
  },
  {
   "cell_type": "code",
   "execution_count": 37,
   "id": "273d3f7f-e31a-487c-9b20-d701b6f0bda7",
   "metadata": {},
   "outputs": [
    {
     "name": "stdout",
     "output_type": "stream",
     "text": [
      "[]\n"
     ]
    }
   ],
   "source": [
    "\"\"\"\n",
    "Q19.\n",
    "Write a Program to print duplicates from a list of integers\n",
    "\"\"\"\n",
    "num_list = [10, 20, 30, 20, 20, 30, 40, 50, -20, 60, 60, -20, -20]\n",
    "duplicates_items = []\n",
    "for item in range(len(num_list)):\n",
    "    for j in range(item + 1, len(num_list)):\n",
    "        if num_list[item] == num_list[j] and num_list[item] not in duplicates_items:\n",
    "            duplicates_items.append(num_list[item])\n",
    "print(duplicates_items)\n",
    "\n",
    "# num_list = [10, 20, 30, 20, 20, 30, 40, 50, -20, 60, 60, -20, -20]\n",
    "# result = []\n",
    "# duplicates_num = set()\n",
    "# for item in num_list:\n",
    "#     if item in result:\n",
    "#         duplicates_num.add(item)\n",
    "#     else:\n",
    "#         result.append(item)   \n",
    "\n",
    "# print(duplicates_num) \n"
   ]
  },
  {
   "cell_type": "code",
   "execution_count": 41,
   "id": "b45405cc-d116-4e49-b62a-e3663850b962",
   "metadata": {},
   "outputs": [
    {
     "name": "stdout",
     "output_type": "stream",
     "text": [
      "[12, 3, 10]\n"
     ]
    }
   ],
   "source": [
    "\"\"\"\n",
    "Q20.\n",
    "write a program to Remove multiple elements from a list\n",
    "\"\"\"\n",
    "num_list = [12, 15, 3, 10]\n",
    "remove_elements = [15, 3]\n",
    "for item in num_list: \n",
    "    if item in remove_elements:\n",
    "        num_list.remove(item)\n",
    "print(num_list)\n",
    "\n"
   ]
  },
  {
   "cell_type": "code",
   "execution_count": 43,
   "id": "4e56d174-5680-4a25-9a8e-179087eeb17d",
   "metadata": {},
   "outputs": [
    {
     "name": "stdout",
     "output_type": "stream",
     "text": [
      "positive number =2\n",
      "negative number is =3\n"
     ]
    }
   ],
   "source": [
    "\"\"\"\n",
    "Q21.\n",
    "write a program to program to count positive and negative numbers in a list\n",
    "\"\"\"\n",
    "num_list=[2, -7, 5, -64, -14]\n",
    "negative_count=0\n",
    "positive_count=0\n",
    "for item in num_list:\n",
    "    if item < 0:\n",
    "        negative_count=negative_count+1\n",
    "    elif item > 0:\n",
    "        positive_count=positive_count+1\n",
    "print(f\"positive number ={positive_count}\")\n",
    "print(f\"negative number is ={negative_count}\")"
   ]
  },
  {
   "cell_type": "code",
   "execution_count": null,
   "id": "9a6c0c72-df1c-450e-9524-56cc9032ec6c",
   "metadata": {},
   "outputs": [],
   "source": [
    "\"\"\"\n",
    "Q22.\n",
    "write a program to find the even number, odd number, duplicate number \n",
    "and sum of each list and lasgest number from all the list and smallest number\n",
    "\n",
    "\"\"\"\n",
    "lst1 = [[1, 2, 3, 4, 5, 6, 7, 8, 9, 10], [12, 35, 9, 56, 24], [70, 11, 20, 4, 100]]\n",
    "even = []\n",
    "odd = []\n",
    "duplicates = set()\n",
    "total_sum = []\n",
    "all_numbers = []\n",
    "largest =float(\"-inf\")\n",
    "smallest = float(\"inf\")\n",
    "\n",
    "for sublist in lst1:\n",
    "    total = sum(sublist) \n",
    "    total_sum.append(total) \n",
    "    \n",
    "    # Find even and odd numbers\n",
    "    for num in sublist:\n",
    "        all_numbers.append(num) \n",
    "        if num % 2 == 0:\n",
    "            even.append(num)\n",
    "        else:\n",
    "            odd.append(num)\n",
    "    \n",
    "    # Find duplicate numbers\n",
    "for num in all_numbers:\n",
    "    if all_numbers.count(num) > 1:\n",
    "        duplicates.add(num)\n",
    "\n",
    "#Find largest and smallest numbers \n",
    "for sublist in lst1:\n",
    "    if largest is float(\"-inf\") or max(sublist) > largest:\n",
    "        largest = max(sublist)\n",
    "    if smallest is float(\"inf\") or min(sublist) < smallest:\n",
    "        smallest = min(sublist)\n",
    "\n",
    "print(\"Even numbers =\", even)\n",
    "print(\"Odd numbers =\", odd)\n",
    "print(\"Duplicate numbers =\", duplicates)\n",
    "print(\"sum of all numbers =\", total_sum)\n",
    "print(\"Largest number =\", largest)\n",
    "print(\"Smallest number =\", smallest)\n",
    "\n"
   ]
  },
  {
   "cell_type": "code",
   "execution_count": null,
   "id": "6074fb7e-f54a-4a17-8784-c5832fd72249",
   "metadata": {},
   "outputs": [],
   "source": [
    "\"\"\"\n",
    "Q23.\n",
    "Write a Python program to remove duplicates from a list of lists.\n",
    "\"\"\"\n",
    "lst1 = [[10, 20], [40], [30, 56, 25], [10, 20], [33], [40]]\n",
    "duplicates = []\n",
    "unique_list = []\n",
    "\n",
    "for sublist in lst1:\n",
    "    \n",
    "    if sublist not in duplicates:\n",
    "        duplicates.append(sublist)\n",
    "        unique_list.append(list(sublist))\n",
    "print(unique_list)"
   ]
  },
  {
   "cell_type": "code",
   "execution_count": 54,
   "id": "a790bcb6-d3f1-4fc0-b634-446b8603aa18",
   "metadata": {},
   "outputs": [
    {
     "name": "stdout",
     "output_type": "stream",
     "text": [
      "['abcd', 'abc', 'acjd']\n"
     ]
    }
   ],
   "source": [
    "\"\"\"\n",
    "Q24.\n",
    "Write a Python program to find items starting with a specific character from a list.\n",
    "\"\"\"\n",
    "num_list=[\"abcd\", \"abc\", \"bcd\", \"bkie\", \"cder\", \"cdsw\", \"sdfsd\", \"dagfa\", \"acjd\"] \n",
    "result=[]\n",
    "start=\"a\"\n",
    "for v in num_list:\n",
    "    if v[0]==start:\n",
    "        result.append(v)\n",
    "print(result)"
   ]
  },
  {
   "cell_type": "code",
   "execution_count": 4,
   "id": "37e42c8f-07cb-4b3e-9dc2-2b0f5295663b",
   "metadata": {},
   "outputs": [
    {
     "name": "stdout",
     "output_type": "stream",
     "text": [
      "False\n"
     ]
    }
   ],
   "source": [
    "\"\"\"\n",
    "Q25.\n",
    "Write a Python program to check whether all dictionaries in a list are empty or not.\n",
    "\"\"\"\n",
    "\n",
    "\n",
    "\n",
    "num_list = [{\"awais\":22}, {     }, {}]\n",
    "def all_empty(num_list):\n",
    "    for d in num_list:\n",
    "        if d!={}:  \n",
    "            return False\n",
    "        else:\n",
    "            return True\n",
    "print(all_empty(num_list)) \n",
    "\n",
    "\n",
    "\n",
    "# num_list = [{\"awais\":22},{},{}]\n",
    "# all_empty = True\n",
    "# for d in num_list:\n",
    "#        if d != {}:\n",
    "#         all_empty = False\n",
    "#         break  \n",
    "\n",
    "# print(all_empty) \n",
    "\n"
   ]
  },
  {
   "cell_type": "code",
   "execution_count": 50,
   "id": "ce2ad57e-fb84-4615-b57d-7ae9547f3b42",
   "metadata": {},
   "outputs": [
    {
     "name": "stdout",
     "output_type": "stream",
     "text": [
      "[0, 10, 20, 30, 40, 50, 60, 70, 80, 90, 100, 110, 120]\n"
     ]
    }
   ],
   "source": [
    "\"\"\"\n",
    "Q26.\n",
    "Write a Python program to flatten a given nested list structure.\n",
    "\"\"\"\n",
    "num_list = [0, 10, [20, 30], 40, 50, [60, 70, 80], [90, 100, 110, 120]]\n",
    "flattened_list = []\n",
    "for item in num_list:\n",
    "    if type(item) is list:\n",
    "        for subitem in item:\n",
    "            flattened_list.append(subitem)\n",
    "    else:\n",
    "         flattened_list.append(item)\n",
    "\n",
    "print(flattened_list)\n"
   ]
  },
  {
   "cell_type": "code",
   "execution_count": 48,
   "id": "a6a9b77b-ef1d-41d1-9fd8-a93c9163c175",
   "metadata": {},
   "outputs": [
    {
     "name": "stdout",
     "output_type": "stream",
     "text": [
      "[]\n"
     ]
    }
   ],
   "source": [
    "\"\"\"\n",
    "Q27.\n",
    "Write a Python program to remove consecutive (following each other continuously) duplicates (elements) from a given list.\n",
    "\"\"\"\n",
    "num_list = [0, 0, 1, 2, 3, 4, 4, 5, 6, 6, 6, 7, 8, 9, 4, 4]\n",
    "result = []\n",
    "for item in range(len(num_list)):\n",
    "    if num_list[item] != num_list[item - 1]:\n",
    "        result.append(num_list[item])\n",
    "print(result)\n",
    "\n",
    "# num_list = [0, 0, 1, 2, 3, 4, 4, 5, 6, 6, 6, 7, 8, 9, 4, 4]\n",
    "# result = []\n",
    "# for item in num_list:\n",
    "#     if not result or item != result[-1]:\n",
    "#         result.append(item)\n",
    "\n",
    "# print(result)\n"
   ]
  },
  {
   "cell_type": "code",
   "execution_count": 47,
   "id": "be9bc81c-280f-4530-84eb-af1052b3efeb",
   "metadata": {},
   "outputs": [
    {
     "name": "stdout",
     "output_type": "stream",
     "text": [
      "[[0, 0], [1], [2], [3], [4, 4], [5], [6, 6, 6], [7], [8], [9], [4, 4]]\n"
     ]
    }
   ],
   "source": [
    "\"\"\"\n",
    "Q28.\n",
    "Write a Python program to pack consecutive duplicates of a given list of elements into sublists.\n",
    "\"\"\"\n",
    "# num_list = [0, 0, 1, 2, 3, 4, 4, 5, 6, 6, 6, 7, 8, 9, 4, 4]\n",
    "# packed_list = []\n",
    "# current_group = []\n",
    "# for item in num_list:\n",
    "#     if not current_group or item == current_group[-1]:\n",
    "#         current_group.append(item)\n",
    "#     else:\n",
    "#         packed_list.append(current_group)\n",
    "#         current_group = [item]\n",
    "\n",
    "# if current_group:                      # current_group not empty\n",
    "#     packed_list.append(current_group)\n",
    "\n",
    "# print(packed_list)\n",
    "\n",
    "\n",
    "num_list = [0, 0, 1, 2, 3, 4, 4, 5, 6, 6, 6, 7, 8, 9, 4, 4]\n",
    "packed_list = []\n",
    "current_element = None\n",
    "current_group = []\n",
    "for item in num_list:\n",
    "    if item == current_element:\n",
    "        current_group.append(item)\n",
    "    else:\n",
    "        if current_group:\n",
    "            packed_list.append(current_group)\n",
    "        current_group = [item]\n",
    "        current_element = item\n",
    "if current_group:\n",
    "    packed_list.append(current_group)\n",
    "\n",
    "print(packed_list)\n",
    "\n",
    "\n"
   ]
  },
  {
   "cell_type": "code",
   "execution_count": 46,
   "id": "e91b785d-121d-4b30-8923-c3f6f1fdf6b0",
   "metadata": {},
   "outputs": [
    {
     "name": "stdout",
     "output_type": "stream",
     "text": [
      "[('a', 1), ('u', 1), ('t', 1), ('o', 1), ('m', 1), ('a', 1), ('t', 1), ('i', 1), ('c', 1), ('a', 1), ('l', 2), ('y', 1)]\n"
     ]
    }
   ],
   "source": [
    "\"\"\"\n",
    "Q29.\n",
    "Write a Python program to create a list reflecting the run-length encoding \n",
    "from a given list of integers or a given list of characters.\n",
    "\"\"\"\n",
    "\n",
    "\n",
    "my_string = \"automatically\"\n",
    "my_list = []\n",
    "count = 1\n",
    "for item in range(1, len(my_string)):\n",
    "    if my_string[item] == my_string[item- 1]:\n",
    "        count=count+1\n",
    "    else:\n",
    "        my_list.append((my_string[item - 1], count))\n",
    "        count = 1\n",
    "my_list.append((my_string[-1], count))\n",
    "\n",
    "print(my_list)\n",
    "\n",
    "\n",
    "# str1 = \"automatically\"\n",
    "# my_lst = []\n",
    "# current_char = str1[0]\n",
    "# count = 0\n",
    "# for letter in str1:\n",
    "#     if letter == current_char:\n",
    "#         count=count+ 1\n",
    "#     else:\n",
    "#         my_lst.append((current_char, count))\n",
    "#         current_char = letter\n",
    "#         count = 1\n",
    "# my_lst.append((current_char, count))\n",
    "\n",
    "# print(my_lst)\n"
   ]
  },
  {
   "cell_type": "code",
   "execution_count": 45,
   "id": "feb4ab62-4c41-4c91-915c-11fa91e4cb0d",
   "metadata": {},
   "outputs": [
    {
     "name": "stdout",
     "output_type": "stream",
     "text": [
      "([1, 1, 2, 3, 4], [4, 5, 1])\n"
     ]
    }
   ],
   "source": [
    "\"\"\"\n",
    "Q30.\n",
    "Write a Python program to split a given list into two parts where the length of the first part of the list is given.\n",
    "\"\"\"\n",
    "num_list = [1, 1, 2, 3, 4, 4, 5, 1]\n",
    "first_len = -3\n",
    "\n",
    "first_part = num_list[:first_len]\n",
    "second_part = num_list[first_len:]\n",
    "\n",
    "print(f\"({first_part}, {second_part})\")\n"
   ]
  },
  {
   "cell_type": "code",
   "execution_count": null,
   "id": "f20b47ca-137b-46dd-857f-5b7a9d3ed877",
   "metadata": {},
   "outputs": [],
   "source": []
  }
 ],
 "metadata": {
  "kernelspec": {
   "display_name": "Python 3",
   "language": "python",
   "name": "python3"
  },
  "language_info": {
   "codemirror_mode": {
    "name": "ipython",
    "version": 3
   },
   "file_extension": ".py",
   "mimetype": "text/x-python",
   "name": "python",
   "nbconvert_exporter": "python",
   "pygments_lexer": "ipython3",
   "version": "3.7.5"
  }
 },
 "nbformat": 4,
 "nbformat_minor": 5
}
